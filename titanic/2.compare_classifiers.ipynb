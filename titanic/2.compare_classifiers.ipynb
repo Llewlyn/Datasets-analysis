{
 "cells": [
  {
   "cell_type": "code",
   "execution_count": 1,
   "metadata": {},
   "outputs": [],
   "source": [
    "import numpy as np\n",
    "import pandas as pd\n",
    "import sklearn as sk\n",
    "import matplotlib.pyplot as plt\n",
    "import seaborn as sns\n",
    "from IPython.core.interactiveshell import InteractiveShell"
   ]
  },
  {
   "cell_type": "code",
   "execution_count": 2,
   "metadata": {},
   "outputs": [],
   "source": [
    "InteractiveShell.ast_node_interactivity = 'all'\n",
    "plt.style.use('dark_background')"
   ]
  },
  {
   "cell_type": "markdown",
   "metadata": {},
   "source": [
    "### Pre-processing"
   ]
  },
  {
   "cell_type": "code",
   "execution_count": 3,
   "metadata": {},
   "outputs": [],
   "source": [
    "from sklearn.metrics import precision_recall_fscore_support\n",
    "from sklearn.model_selection import train_test_split\n",
    "from sklearn.preprocessing import LabelEncoder, OneHotEncoder, StandardScaler"
   ]
  },
  {
   "cell_type": "code",
   "execution_count": 4,
   "metadata": {},
   "outputs": [],
   "source": [
    "def extract_numericals(df):\n",
    "    \"\"\"\n",
    "    Extract float quantities from DataFrame `df`.\n",
    "    Replace missing values w median.\n",
    "    Perform standard scaling.\n",
    "    \"\"\"\n",
    "    df_flt = df.select_dtypes(include='float64')\n",
    "    df_flt = df_flt.fillna(value=df_flt.median())\n",
    "    ss = StandardScaler()\n",
    "    X = ss.fit_transform(df_flt.values)\n",
    "    df_flt = pd.DataFrame(X, columns=df_flt.columns) \n",
    "    return df_flt"
   ]
  },
  {
   "cell_type": "code",
   "execution_count": 5,
   "metadata": {},
   "outputs": [],
   "source": [
    "def one_hot_encoder(series):\n",
    "    \"\"\" \n",
    "    Encode categorical `series` using OneHotEncoding. \n",
    "    Return class list and encoded feature, truncated by\n",
    "    one to avoid dummy trap.\n",
    "    \"\"\"\n",
    "    # Stop if there are missing values\n",
    "    assert np.sum(series.isnull()) == 0\n",
    "    ## Encode categories to integers \n",
    "    le = LabelEncoder()\n",
    "    le.fit(series)\n",
    "    classes = le.classes_\n",
    "#     print('LE classes', classes)\n",
    "    series_le = le.transform(series)\n",
    "    ## Convert integer categories using OneVsAll \n",
    "    oh = OneHotEncoder(sparse=False)\n",
    "    feat_le = series_le.reshape(-1, 1)\n",
    "    oh.fit(feat_le)\n",
    "#     print('OH feats', oh.active_features_)\n",
    "    feat_oh = oh.transform(feat_le)\n",
    "    # Avoid dummy trap\n",
    "#     print('shape:', feat_oh.shape)\n",
    "    feat_oh = feat_oh[:, :-1]\n",
    "#     print('shape:', feat_oh.shape)\n",
    "    return classes[:-1], feat_oh"
   ]
  },
  {
   "cell_type": "code",
   "execution_count": 6,
   "metadata": {},
   "outputs": [],
   "source": [
    "def show_pearson(df):\n",
    "    \"\"\"Display correlation matrix of dataset\"\"\"\n",
    "    corr_mat = df.corr()\n",
    "#     display(corr_mat)\n",
    "    sns.heatmap(corr_mat)\n",
    "    return corr_mat"
   ]
  },
  {
   "cell_type": "markdown",
   "metadata": {},
   "source": [
    "### Generate scores for various models\n",
    "- Score is $F_1$"
   ]
  },
  {
   "cell_type": "code",
   "execution_count": 7,
   "metadata": {},
   "outputs": [],
   "source": [
    "def compute_score(classifier, X_trn, y_trn, X_tst, y_tst):\n",
    "    # Fit classifier to training data\n",
    "    cf = classifier\n",
    "    cf = cf.fit(X_trn, y_trn)\n",
    "    # Collect predictions\n",
    "    y_pred_trn = cf.predict(X_trn)\n",
    "    y_pred_tst = cf.predict(X_tst)\n",
    "    scores = precision_recall_fscore_support(y_trn, y_pred_trn, average='binary')\n",
    "    scores_tst = precision_recall_fscore_support(y_tst, y_pred_tst, average='binary')\n",
    "    return scores, scores_tst"
   ]
  },
  {
   "cell_type": "markdown",
   "metadata": {},
   "source": [
    "### Clean data and utility loop"
   ]
  },
  {
   "cell_type": "code",
   "execution_count": 8,
   "metadata": {},
   "outputs": [],
   "source": [
    "def process_df(df):\n",
    "    \"\"\"Return processed Dataframe\"\"\"\n",
    "    \n",
    "    # If shuffled, reset index\n",
    "    assert df.index.is_monotonic == True\n",
    "    \n",
    "    # Extract floating point quantities and fill missing values\n",
    "    df_end = extract_numericals(df)\n",
    "    \n",
    "    # OneHotEncoding of `Sex`\n",
    "    classes, encoded = one_hot_encoder(df['Sex'])\n",
    "    for ix, class_ in enumerate(classes):\n",
    "        df_end[class_] = encoded[:, ix]\n",
    "        df_end[class_] = df_end[class_].astype('int64')\n",
    "    \n",
    "    # OneHotEncoding of `Embarked`\n",
    "    series = df['Embarked'].fillna(value=df['Embarked'].mode()[0])\n",
    "    classes, encoded = one_hot_encoder(series)\n",
    "    for ix, class_ in enumerate(classes):\n",
    "        df_end[class_] = encoded[:, ix]\n",
    "        df_end[class_] = df_end[class_].astype('int64')\n",
    "    \n",
    "    # Encode `Cabin` as binary category\n",
    "    mask = df['Cabin'].isnull()\n",
    "    mask = mask.reset_index(drop=True)\n",
    "    df_end['Cabin'] = mask.astype('int64')\n",
    "\n",
    "    # Add target\n",
    "    df_end['Survived'] = df['Survived']\n",
    "    \n",
    "    # Add integer quantities\n",
    "    df_end['SibSp'] = df['SibSp']\n",
    "    df_end['Pclass'] = df['Pclass']\n",
    "    df_end['Parch'] = df['Parch']\n",
    "    \n",
    "    return df_end"
   ]
  },
  {
   "cell_type": "code",
   "execution_count": 9,
   "metadata": {},
   "outputs": [],
   "source": [
    "def generate_score(df, classifier):\n",
    "    \"\"\"\n",
    "        Returns a generator that evalute metric for a certain \n",
    "        strategy.\n",
    "    \"\"\"\n",
    "    while True:\n",
    "        # Split training and test set 80% 20%\n",
    "        df_trn, df_tst = train_test_split(df, test_size = .2, shuffle=True)\n",
    "        df_trn = df_trn.reset_index(drop=True)\n",
    "        df_tst = df_tst.reset_index(drop=True)\n",
    "        \n",
    "        # Process sets\n",
    "        df_trn_end = process_df(df_trn)\n",
    "        df_tst_end = process_df(df_tst)\n",
    "\n",
    "        # Get design matrix and target\n",
    "        X_trn = df_trn_end.drop(columns=['Survived']).values\n",
    "        X_tst = df_tst_end.drop(columns=['Survived']).values\n",
    "        y_trn = df_trn_end['Survived'].values\n",
    "        y_tst = df_tst_end['Survived'].values\n",
    "        \n",
    "        # Compute score on strategy\n",
    "        yield compute_score(classifier, X_trn, y_trn, X_tst, y_tst)"
   ]
  },
  {
   "cell_type": "code",
   "execution_count": 10,
   "metadata": {},
   "outputs": [],
   "source": [
    "def evaluate_strategy(df, classifier, times):\n",
    "    \"\"\"Evaluate `score_strategy` on `df` `times` times. `DataFrame` is reshuffled at every use.\"\"\"\n",
    "    res = [next(generate_score(df, classifier)) for _ in range(times)]\n",
    "\n",
    "    ps_trn = []\n",
    "    rs_trn = []\n",
    "    fs_trn = []\n",
    "\n",
    "    ps_tst = []\n",
    "    rs_tst = []\n",
    "    fs_tst = []\n",
    "\n",
    "    for instance in res:\n",
    "        res_trn, res_tst = instance\n",
    "        p_trn, r_trn, f_trn, _ = res_trn\n",
    "        p_tst, r_tst, f_tst, _ = res_tst\n",
    "        ps_trn.append(p_trn)\n",
    "        rs_trn.append(r_trn)\n",
    "        fs_trn.append(f_trn)\n",
    "        ps_tst.append(p_tst)\n",
    "        rs_tst.append(r_tst)\n",
    "        fs_tst.append(f_tst)\n",
    "\n",
    "    scores = pd.DataFrame({\n",
    "        'precision_trn': ps_trn,\n",
    "        'recall_trn': rs_trn,\n",
    "        'fscore_trn': fs_trn,\n",
    "        'precision_tst': ps_tst,\n",
    "        'recall_tst': rs_tst,\n",
    "        'fscore_tst': fs_tst\n",
    "    })\n",
    "    \n",
    "    return scores"
   ]
  },
  {
   "cell_type": "markdown",
   "metadata": {},
   "source": [
    "### Start!"
   ]
  },
  {
   "cell_type": "code",
   "execution_count": 11,
   "metadata": {},
   "outputs": [],
   "source": [
    "df = pd.read_csv('train.csv')"
   ]
  },
  {
   "cell_type": "code",
   "execution_count": 12,
   "metadata": {},
   "outputs": [],
   "source": [
    "from sklearn.tree import DecisionTreeClassifier\n",
    "from sklearn.ensemble import RandomForestClassifier, AdaBoostClassifier\n",
    "from sklearn.linear_model import LogisticRegression\n",
    "from sklearn.svm import SVC\n",
    "from sklearn.neighbors import KNeighborsClassifier\n",
    "from sklearn.neural_network import MLPClassifier\n",
    "from sklearn.gaussian_process import GaussianProcessClassifier\n",
    "from sklearn.naive_bayes import GaussianNB"
   ]
  },
  {
   "cell_type": "code",
   "execution_count": 13,
   "metadata": {},
   "outputs": [],
   "source": [
    "classifiers = [\n",
    "    DecisionTreeClassifier(),\n",
    "    RandomForestClassifier(),\n",
    "    LogisticRegression(),\n",
    "    SVC(),\n",
    "    KNeighborsClassifier(),\n",
    "    MLPClassifier(),\n",
    "    GaussianProcessClassifier(),\n",
    "    AdaBoostClassifier(),\n",
    "    GaussianNB()\n",
    "]"
   ]
  },
  {
   "cell_type": "code",
   "execution_count": 16,
   "metadata": {},
   "outputs": [
    {
     "name": "stdout",
     "output_type": "stream",
     "text": [
      "DecisionTreeClassifier\n"
     ]
    },
    {
     "data": {
      "text/html": [
       "<div>\n",
       "<style scoped>\n",
       "    .dataframe tbody tr th:only-of-type {\n",
       "        vertical-align: middle;\n",
       "    }\n",
       "\n",
       "    .dataframe tbody tr th {\n",
       "        vertical-align: top;\n",
       "    }\n",
       "\n",
       "    .dataframe thead th {\n",
       "        text-align: right;\n",
       "    }\n",
       "</style>\n",
       "<table border=\"1\" class=\"dataframe\">\n",
       "  <thead>\n",
       "    <tr style=\"text-align: right;\">\n",
       "      <th></th>\n",
       "      <th>fscore_trn</th>\n",
       "      <th>fscore_tst</th>\n",
       "    </tr>\n",
       "  </thead>\n",
       "  <tbody>\n",
       "    <tr>\n",
       "      <th>mean</th>\n",
       "      <td>0.980981</td>\n",
       "      <td>0.651422</td>\n",
       "    </tr>\n",
       "    <tr>\n",
       "      <th>std</th>\n",
       "      <td>0.004062</td>\n",
       "      <td>0.046600</td>\n",
       "    </tr>\n",
       "  </tbody>\n",
       "</table>\n",
       "</div>"
      ],
      "text/plain": [
       "      fscore_trn  fscore_tst\n",
       "mean    0.980981    0.651422\n",
       "std     0.004062    0.046600"
      ]
     },
     "metadata": {},
     "output_type": "display_data"
    },
    {
     "name": "stdout",
     "output_type": "stream",
     "text": [
      "RandomForestClassifier\n"
     ]
    },
    {
     "data": {
      "text/html": [
       "<div>\n",
       "<style scoped>\n",
       "    .dataframe tbody tr th:only-of-type {\n",
       "        vertical-align: middle;\n",
       "    }\n",
       "\n",
       "    .dataframe tbody tr th {\n",
       "        vertical-align: top;\n",
       "    }\n",
       "\n",
       "    .dataframe thead th {\n",
       "        text-align: right;\n",
       "    }\n",
       "</style>\n",
       "<table border=\"1\" class=\"dataframe\">\n",
       "  <thead>\n",
       "    <tr style=\"text-align: right;\">\n",
       "      <th></th>\n",
       "      <th>fscore_trn</th>\n",
       "      <th>fscore_tst</th>\n",
       "    </tr>\n",
       "  </thead>\n",
       "  <tbody>\n",
       "    <tr>\n",
       "      <th>mean</th>\n",
       "      <td>0.961302</td>\n",
       "      <td>0.694817</td>\n",
       "    </tr>\n",
       "    <tr>\n",
       "      <th>std</th>\n",
       "      <td>0.006299</td>\n",
       "      <td>0.041422</td>\n",
       "    </tr>\n",
       "  </tbody>\n",
       "</table>\n",
       "</div>"
      ],
      "text/plain": [
       "      fscore_trn  fscore_tst\n",
       "mean    0.961302    0.694817\n",
       "std     0.006299    0.041422"
      ]
     },
     "metadata": {},
     "output_type": "display_data"
    },
    {
     "name": "stdout",
     "output_type": "stream",
     "text": [
      "LogisticRegression\n"
     ]
    },
    {
     "data": {
      "text/html": [
       "<div>\n",
       "<style scoped>\n",
       "    .dataframe tbody tr th:only-of-type {\n",
       "        vertical-align: middle;\n",
       "    }\n",
       "\n",
       "    .dataframe tbody tr th {\n",
       "        vertical-align: top;\n",
       "    }\n",
       "\n",
       "    .dataframe thead th {\n",
       "        text-align: right;\n",
       "    }\n",
       "</style>\n",
       "<table border=\"1\" class=\"dataframe\">\n",
       "  <thead>\n",
       "    <tr style=\"text-align: right;\">\n",
       "      <th></th>\n",
       "      <th>fscore_trn</th>\n",
       "      <th>fscore_tst</th>\n",
       "    </tr>\n",
       "  </thead>\n",
       "  <tbody>\n",
       "    <tr>\n",
       "      <th>mean</th>\n",
       "      <td>0.738119</td>\n",
       "      <td>0.720366</td>\n",
       "    </tr>\n",
       "    <tr>\n",
       "      <th>std</th>\n",
       "      <td>0.010706</td>\n",
       "      <td>0.042421</td>\n",
       "    </tr>\n",
       "  </tbody>\n",
       "</table>\n",
       "</div>"
      ],
      "text/plain": [
       "      fscore_trn  fscore_tst\n",
       "mean    0.738119    0.720366\n",
       "std     0.010706    0.042421"
      ]
     },
     "metadata": {},
     "output_type": "display_data"
    },
    {
     "name": "stdout",
     "output_type": "stream",
     "text": [
      "SVC\n"
     ]
    },
    {
     "data": {
      "text/html": [
       "<div>\n",
       "<style scoped>\n",
       "    .dataframe tbody tr th:only-of-type {\n",
       "        vertical-align: middle;\n",
       "    }\n",
       "\n",
       "    .dataframe tbody tr th {\n",
       "        vertical-align: top;\n",
       "    }\n",
       "\n",
       "    .dataframe thead th {\n",
       "        text-align: right;\n",
       "    }\n",
       "</style>\n",
       "<table border=\"1\" class=\"dataframe\">\n",
       "  <thead>\n",
       "    <tr style=\"text-align: right;\">\n",
       "      <th></th>\n",
       "      <th>fscore_trn</th>\n",
       "      <th>fscore_tst</th>\n",
       "    </tr>\n",
       "  </thead>\n",
       "  <tbody>\n",
       "    <tr>\n",
       "      <th>mean</th>\n",
       "      <td>0.767538</td>\n",
       "      <td>0.754315</td>\n",
       "    </tr>\n",
       "    <tr>\n",
       "      <th>std</th>\n",
       "      <td>0.010160</td>\n",
       "      <td>0.034582</td>\n",
       "    </tr>\n",
       "  </tbody>\n",
       "</table>\n",
       "</div>"
      ],
      "text/plain": [
       "      fscore_trn  fscore_tst\n",
       "mean    0.767538    0.754315\n",
       "std     0.010160    0.034582"
      ]
     },
     "metadata": {},
     "output_type": "display_data"
    },
    {
     "name": "stdout",
     "output_type": "stream",
     "text": [
      "KNeighborsClassifier\n"
     ]
    },
    {
     "data": {
      "text/html": [
       "<div>\n",
       "<style scoped>\n",
       "    .dataframe tbody tr th:only-of-type {\n",
       "        vertical-align: middle;\n",
       "    }\n",
       "\n",
       "    .dataframe tbody tr th {\n",
       "        vertical-align: top;\n",
       "    }\n",
       "\n",
       "    .dataframe thead th {\n",
       "        text-align: right;\n",
       "    }\n",
       "</style>\n",
       "<table border=\"1\" class=\"dataframe\">\n",
       "  <thead>\n",
       "    <tr style=\"text-align: right;\">\n",
       "      <th></th>\n",
       "      <th>fscore_trn</th>\n",
       "      <th>fscore_tst</th>\n",
       "    </tr>\n",
       "  </thead>\n",
       "  <tbody>\n",
       "    <tr>\n",
       "      <th>mean</th>\n",
       "      <td>0.801199</td>\n",
       "      <td>0.720061</td>\n",
       "    </tr>\n",
       "    <tr>\n",
       "      <th>std</th>\n",
       "      <td>0.011106</td>\n",
       "      <td>0.033881</td>\n",
       "    </tr>\n",
       "  </tbody>\n",
       "</table>\n",
       "</div>"
      ],
      "text/plain": [
       "      fscore_trn  fscore_tst\n",
       "mean    0.801199    0.720061\n",
       "std     0.011106    0.033881"
      ]
     },
     "metadata": {},
     "output_type": "display_data"
    },
    {
     "name": "stdout",
     "output_type": "stream",
     "text": [
      "MLPClassifier\n"
     ]
    },
    {
     "name": "stderr",
     "output_type": "stream",
     "text": [
      "/anaconda3/lib/python3.6/site-packages/sklearn/neural_network/multilayer_perceptron.py:564: ConvergenceWarning: Stochastic Optimizer: Maximum iterations (200) reached and the optimization hasn't converged yet.\n",
      "  % self.max_iter, ConvergenceWarning)\n"
     ]
    },
    {
     "data": {
      "text/html": [
       "<div>\n",
       "<style scoped>\n",
       "    .dataframe tbody tr th:only-of-type {\n",
       "        vertical-align: middle;\n",
       "    }\n",
       "\n",
       "    .dataframe tbody tr th {\n",
       "        vertical-align: top;\n",
       "    }\n",
       "\n",
       "    .dataframe thead th {\n",
       "        text-align: right;\n",
       "    }\n",
       "</style>\n",
       "<table border=\"1\" class=\"dataframe\">\n",
       "  <thead>\n",
       "    <tr style=\"text-align: right;\">\n",
       "      <th></th>\n",
       "      <th>fscore_trn</th>\n",
       "      <th>fscore_tst</th>\n",
       "    </tr>\n",
       "  </thead>\n",
       "  <tbody>\n",
       "    <tr>\n",
       "      <th>mean</th>\n",
       "      <td>0.789461</td>\n",
       "      <td>0.737150</td>\n",
       "    </tr>\n",
       "    <tr>\n",
       "      <th>std</th>\n",
       "      <td>0.008642</td>\n",
       "      <td>0.037632</td>\n",
       "    </tr>\n",
       "  </tbody>\n",
       "</table>\n",
       "</div>"
      ],
      "text/plain": [
       "      fscore_trn  fscore_tst\n",
       "mean    0.789461    0.737150\n",
       "std     0.008642    0.037632"
      ]
     },
     "metadata": {},
     "output_type": "display_data"
    },
    {
     "name": "stdout",
     "output_type": "stream",
     "text": [
      "GaussianProcessClassifier\n"
     ]
    },
    {
     "data": {
      "text/html": [
       "<div>\n",
       "<style scoped>\n",
       "    .dataframe tbody tr th:only-of-type {\n",
       "        vertical-align: middle;\n",
       "    }\n",
       "\n",
       "    .dataframe tbody tr th {\n",
       "        vertical-align: top;\n",
       "    }\n",
       "\n",
       "    .dataframe thead th {\n",
       "        text-align: right;\n",
       "    }\n",
       "</style>\n",
       "<table border=\"1\" class=\"dataframe\">\n",
       "  <thead>\n",
       "    <tr style=\"text-align: right;\">\n",
       "      <th></th>\n",
       "      <th>fscore_trn</th>\n",
       "      <th>fscore_tst</th>\n",
       "    </tr>\n",
       "  </thead>\n",
       "  <tbody>\n",
       "    <tr>\n",
       "      <th>mean</th>\n",
       "      <td>0.804557</td>\n",
       "      <td>0.734314</td>\n",
       "    </tr>\n",
       "    <tr>\n",
       "      <th>std</th>\n",
       "      <td>0.009668</td>\n",
       "      <td>0.033507</td>\n",
       "    </tr>\n",
       "  </tbody>\n",
       "</table>\n",
       "</div>"
      ],
      "text/plain": [
       "      fscore_trn  fscore_tst\n",
       "mean    0.804557    0.734314\n",
       "std     0.009668    0.033507"
      ]
     },
     "metadata": {},
     "output_type": "display_data"
    },
    {
     "name": "stdout",
     "output_type": "stream",
     "text": [
      "AdaBoostClassifier\n"
     ]
    },
    {
     "data": {
      "text/html": [
       "<div>\n",
       "<style scoped>\n",
       "    .dataframe tbody tr th:only-of-type {\n",
       "        vertical-align: middle;\n",
       "    }\n",
       "\n",
       "    .dataframe tbody tr th {\n",
       "        vertical-align: top;\n",
       "    }\n",
       "\n",
       "    .dataframe thead th {\n",
       "        text-align: right;\n",
       "    }\n",
       "</style>\n",
       "<table border=\"1\" class=\"dataframe\">\n",
       "  <thead>\n",
       "    <tr style=\"text-align: right;\">\n",
       "      <th></th>\n",
       "      <th>fscore_trn</th>\n",
       "      <th>fscore_tst</th>\n",
       "    </tr>\n",
       "  </thead>\n",
       "  <tbody>\n",
       "    <tr>\n",
       "      <th>mean</th>\n",
       "      <td>0.787661</td>\n",
       "      <td>0.702726</td>\n",
       "    </tr>\n",
       "    <tr>\n",
       "      <th>std</th>\n",
       "      <td>0.011492</td>\n",
       "      <td>0.048798</td>\n",
       "    </tr>\n",
       "  </tbody>\n",
       "</table>\n",
       "</div>"
      ],
      "text/plain": [
       "      fscore_trn  fscore_tst\n",
       "mean    0.787661    0.702726\n",
       "std     0.011492    0.048798"
      ]
     },
     "metadata": {},
     "output_type": "display_data"
    },
    {
     "name": "stdout",
     "output_type": "stream",
     "text": [
      "GaussianNB\n"
     ]
    },
    {
     "data": {
      "text/html": [
       "<div>\n",
       "<style scoped>\n",
       "    .dataframe tbody tr th:only-of-type {\n",
       "        vertical-align: middle;\n",
       "    }\n",
       "\n",
       "    .dataframe tbody tr th {\n",
       "        vertical-align: top;\n",
       "    }\n",
       "\n",
       "    .dataframe thead th {\n",
       "        text-align: right;\n",
       "    }\n",
       "</style>\n",
       "<table border=\"1\" class=\"dataframe\">\n",
       "  <thead>\n",
       "    <tr style=\"text-align: right;\">\n",
       "      <th></th>\n",
       "      <th>fscore_trn</th>\n",
       "      <th>fscore_tst</th>\n",
       "    </tr>\n",
       "  </thead>\n",
       "  <tbody>\n",
       "    <tr>\n",
       "      <th>mean</th>\n",
       "      <td>0.705216</td>\n",
       "      <td>0.695554</td>\n",
       "    </tr>\n",
       "    <tr>\n",
       "      <th>std</th>\n",
       "      <td>0.022022</td>\n",
       "      <td>0.046827</td>\n",
       "    </tr>\n",
       "  </tbody>\n",
       "</table>\n",
       "</div>"
      ],
      "text/plain": [
       "      fscore_trn  fscore_tst\n",
       "mean    0.705216    0.695554\n",
       "std     0.022022    0.046827"
      ]
     },
     "metadata": {},
     "output_type": "display_data"
    }
   ],
   "source": [
    "import re\n",
    "\n",
    "cf_f1_dict = {}\n",
    "\n",
    "for classifier in classifiers:\n",
    "    match_ob = re.search(r\"(.+)\\(\", str(classifier))\n",
    "    classifier_name = match_ob.groups()[0]\n",
    "    print(classifier_name)\n",
    "    scores = evaluate_strategy(df, classifier, 50)\n",
    "    summary = scores.describe()\n",
    "    display(summary[['fscore_trn', 'fscore_tst']].loc[['mean','std']])\n",
    "    cf_f1_dict[classifier_name] = summary['fscore_tst'].loc['mean']"
   ]
  },
  {
   "cell_type": "code",
   "execution_count": 27,
   "metadata": {},
   "outputs": [
    {
     "data": {
      "text/plain": [
       "DecisionTreeClassifier       0.651422\n",
       "RandomForestClassifier       0.694817\n",
       "GaussianNB                   0.695554\n",
       "AdaBoostClassifier           0.702726\n",
       "KNeighborsClassifier         0.720061\n",
       "LogisticRegression           0.720366\n",
       "GaussianProcessClassifier    0.734314\n",
       "MLPClassifier                0.737150\n",
       "SVC                          0.754315\n",
       "dtype: float64"
      ]
     },
     "execution_count": 27,
     "metadata": {},
     "output_type": "execute_result"
    }
   ],
   "source": [
    "pd.Series(cf_f1_dict).sort_values()"
   ]
  }
 ],
 "metadata": {
  "kernelspec": {
   "display_name": "Python 3",
   "language": "python",
   "name": "python3"
  },
  "language_info": {
   "codemirror_mode": {
    "name": "ipython",
    "version": 3
   },
   "file_extension": ".py",
   "mimetype": "text/x-python",
   "name": "python",
   "nbconvert_exporter": "python",
   "pygments_lexer": "ipython3",
   "version": "3.6.5"
  }
 },
 "nbformat": 4,
 "nbformat_minor": 2
}
